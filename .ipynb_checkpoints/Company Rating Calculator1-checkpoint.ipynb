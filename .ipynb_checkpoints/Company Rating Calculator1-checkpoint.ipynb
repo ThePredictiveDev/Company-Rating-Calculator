{
 "cells": [
  {
   "cell_type": "code",
   "execution_count": 1,
   "id": "47ca54e0",
   "metadata": {},
   "outputs": [
    {
     "name": "stdout",
     "output_type": "stream",
     "text": [
      "Enter the company's EBIT: 108.9\n",
      "Enter the company's Interest Expenses: 3.57\n",
      "Enter company name: Apple\n",
      "The rating of Apple is AAA and it's default spread/risk is 0.59\n"
     ]
    }
   ],
   "source": [
    "def get_input_data():\n",
    "    ebit = float(input(\"Enter the company's EBIT: \"))\n",
    "    interest_expenses = float(input(\"Enter the company's Interest Expenses: \"))\n",
    "    name = input(\"Enter company name: \")\n",
    "    \n",
    "    return (ebit, interest_expenses, name)\n",
    "\n",
    "def calculate_default_spread(ebit, interest_expenses):\n",
    "    interest_coverage_ratio = ebit / interest_expenses\n",
    "    if interest_coverage_ratio > 12.5:\n",
    "        company_default_spread = 0.59\n",
    "        RATING = \"AAA\"\n",
    "    elif interest_coverage_ratio > 9.5:\n",
    "        company_default_spread = 0.7\n",
    "        RATING = \"AA\"\n",
    "    elif interest_coverage_ratio > 7.5:\n",
    "        company_default_spread = 0.92\n",
    "        RATING = \"A\"\n",
    "    elif interest_coverage_ratio > 6:\n",
    "        company_default_spread = 1.07\n",
    "        RATING = \"A2\"\n",
    "    elif interest_coverage_ratio > 4.5:\n",
    "        company_default_spread = 1.21\n",
    "        RATING = \"A3\"\n",
    "    elif interest_coverage_ratio > 4:\n",
    "        company_default_spread = 1.47\n",
    "        RATING = \"BBB\"\n",
    "    elif interest_coverage_ratio > 3.5:\n",
    "        company_default_spread = 1.74\n",
    "        RATING = \"BB+\"\n",
    "    elif interest_coverage_ratio > 3:\n",
    "        company_default_spread = 2.21\n",
    "        RATING = \"BB\"\n",
    "    elif interest_coverage_ratio > 2.5:\n",
    "        company_default_spread = 3.14\n",
    "        RATING = \"B\"\n",
    "    elif interest_coverage_ratio > 2:\n",
    "        company_default_spread = 3.61\n",
    "        RATING = \"B2\"\n",
    "    elif interest_coverage_ratio > 1.5:\n",
    "        company_default_spread = 5.24\n",
    "        RATING = \"B3\"\n",
    "    elif interest_coverage_ratio > 1.25:\n",
    "        company_default_spread = 8.51\n",
    "        RATING = \"CCC\"\n",
    "    elif interest_coverage_ratio > 0.8:\n",
    "        company_default_spread = 11.78\n",
    "        RATING = \"CC\"\n",
    "    elif interest_coverage_ratio > 0.5:\n",
    "        company_default_spread = 17\n",
    "        RATING = \"C\"\n",
    "    else:\n",
    "        company_default_spread = 20\n",
    "        RATING = \"D\"\n",
    "        \n",
    "    return (company_default_spread, RATING)\n",
    "\n",
    "def output():\n",
    "    ebit, interest_expenses, name = get_input_data()\n",
    "    company_default_spread, RATING = calculate_default_spread(ebit, interest_expenses)\n",
    "    print(f\"The rating of {name} is {RATING} and it's default spread/risk is {company_default_spread}\")\n",
    "    \n",
    "output()"
   ]
  }
 ],
 "metadata": {
  "kernelspec": {
   "display_name": "Python 3 (ipykernel)",
   "language": "python",
   "name": "python3"
  },
  "language_info": {
   "codemirror_mode": {
    "name": "ipython",
    "version": 3
   },
   "file_extension": ".py",
   "mimetype": "text/x-python",
   "name": "python",
   "nbconvert_exporter": "python",
   "pygments_lexer": "ipython3",
   "version": "3.11.5"
  }
 },
 "nbformat": 4,
 "nbformat_minor": 5
}
